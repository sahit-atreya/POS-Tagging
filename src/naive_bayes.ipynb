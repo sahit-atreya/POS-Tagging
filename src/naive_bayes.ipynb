{
 "cells": [
  {
   "cell_type": "code",
   "execution_count": 4,
   "source": [
    "# IMPORT STATEMENTS\r\n",
    "import numpy as np\r\n",
    "import pandas as pd\r\n",
    "\r\n",
    "from sklearn.model_selection import KFold\r\n",
    "from sklearn.naive_bayes import GaussianNB\r\n",
    "from sklearn.tree import DecisionTreeClassifier\r\n",
    "from sklearn.metrics import precision_recall_fscore_support\r\n",
    "from sklearn.metrics import f1_score, precision_score, recall_score\r\n",
    "import gzip\r\n",
    "import shutil\r\n",
    "import xml.etree.ElementTree as XET\r\n",
    "\r\n",
    "# these files are from PolEval2017 and contains data fro the task (supervised learning models)\r\n",
    "training_file = '..\\\\data\\\\training.xml'\r\n",
    "validation_file = '..\\\\data\\\\validate.xml'\r\n",
    "testing_file = '..\\\\data\\\\test.xml'"
   ],
   "outputs": [],
   "metadata": {}
  },
  {
   "cell_type": "markdown",
   "source": [
    "# feature_extraction_from_xml(data_file, orth_or_lemma, ctag_or_full)\r\n",
    "This function is used to extract the orth/lemma and the ctag/full-ctag from the data_file based on the specifications in the second and third arguments"
   ],
   "metadata": {}
  },
  {
   "cell_type": "code",
   "execution_count": null,
   "source": [
    "def feature_extraction(data_file, orth_or_lemma, ctag_or_full):\r\n",
    "    return 0"
   ],
   "outputs": [],
   "metadata": {}
  }
 ],
 "metadata": {
  "orig_nbformat": 4,
  "language_info": {
   "name": "python",
   "version": "3.9.12",
   "mimetype": "text/x-python",
   "codemirror_mode": {
    "name": "ipython",
    "version": 3
   },
   "pygments_lexer": "ipython3",
   "nbconvert_exporter": "python",
   "file_extension": ".py"
  },
  "kernelspec": {
   "name": "python3",
   "display_name": "Python 3.9.12 64-bit ('base': conda)"
  },
  "interpreter": {
   "hash": "009c6260f8c949f949e8d5c80e91b7d11da42068722b763148e110eb4d6efd9c"
  }
 },
 "nbformat": 4,
 "nbformat_minor": 2
}